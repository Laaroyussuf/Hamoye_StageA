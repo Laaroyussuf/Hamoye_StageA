{
 "cells": [
  {
   "cell_type": "markdown",
   "id": "d4028ce3",
   "metadata": {},
   "source": [
    "# Importing libraries and Loading the data "
   ]
  },
  {
   "cell_type": "code",
   "execution_count": 1,
   "id": "dcd45855",
   "metadata": {},
   "outputs": [],
   "source": [
    "import numpy as np\n",
    "import pandas as pd\n",
    "import matplotlib.pyplot as plt\n",
    "import seaborn as sns"
   ]
  },
  {
   "cell_type": "code",
   "execution_count": 80,
   "id": "c6d6a6bd",
   "metadata": {},
   "outputs": [],
   "source": [
    "data = pd.read_csv('FoodBalanceSheets_E_Africa_NOFLAG.csv', encoding='latin1')"
   ]
  },
  {
   "cell_type": "code",
   "execution_count": 81,
   "id": "bbd67f23",
   "metadata": {},
   "outputs": [
    {
     "data": {
      "text/html": [
       "<div>\n",
       "<style scoped>\n",
       "    .dataframe tbody tr th:only-of-type {\n",
       "        vertical-align: middle;\n",
       "    }\n",
       "\n",
       "    .dataframe tbody tr th {\n",
       "        vertical-align: top;\n",
       "    }\n",
       "\n",
       "    .dataframe thead th {\n",
       "        text-align: right;\n",
       "    }\n",
       "</style>\n",
       "<table border=\"1\" class=\"dataframe\">\n",
       "  <thead>\n",
       "    <tr style=\"text-align: right;\">\n",
       "      <th></th>\n",
       "      <th>Area Code</th>\n",
       "      <th>Area</th>\n",
       "      <th>Item Code</th>\n",
       "      <th>Item</th>\n",
       "      <th>Element Code</th>\n",
       "      <th>Element</th>\n",
       "      <th>Unit</th>\n",
       "      <th>Y2014</th>\n",
       "      <th>Y2015</th>\n",
       "      <th>Y2016</th>\n",
       "      <th>Y2017</th>\n",
       "      <th>Y2018</th>\n",
       "    </tr>\n",
       "  </thead>\n",
       "  <tbody>\n",
       "    <tr>\n",
       "      <th>60938</th>\n",
       "      <td>181</td>\n",
       "      <td>Zimbabwe</td>\n",
       "      <td>2899</td>\n",
       "      <td>Miscellaneous</td>\n",
       "      <td>5142</td>\n",
       "      <td>Food</td>\n",
       "      <td>1000 tonnes</td>\n",
       "      <td>42.00</td>\n",
       "      <td>46.00</td>\n",
       "      <td>33.00</td>\n",
       "      <td>19.00</td>\n",
       "      <td>16.00</td>\n",
       "    </tr>\n",
       "    <tr>\n",
       "      <th>60939</th>\n",
       "      <td>181</td>\n",
       "      <td>Zimbabwe</td>\n",
       "      <td>2899</td>\n",
       "      <td>Miscellaneous</td>\n",
       "      <td>645</td>\n",
       "      <td>Food supply quantity (kg/capita/yr)</td>\n",
       "      <td>kg</td>\n",
       "      <td>3.06</td>\n",
       "      <td>3.33</td>\n",
       "      <td>2.35</td>\n",
       "      <td>1.33</td>\n",
       "      <td>1.08</td>\n",
       "    </tr>\n",
       "    <tr>\n",
       "      <th>60940</th>\n",
       "      <td>181</td>\n",
       "      <td>Zimbabwe</td>\n",
       "      <td>2899</td>\n",
       "      <td>Miscellaneous</td>\n",
       "      <td>664</td>\n",
       "      <td>Food supply (kcal/capita/day)</td>\n",
       "      <td>kcal/capita/day</td>\n",
       "      <td>3.00</td>\n",
       "      <td>4.00</td>\n",
       "      <td>3.00</td>\n",
       "      <td>1.00</td>\n",
       "      <td>1.00</td>\n",
       "    </tr>\n",
       "    <tr>\n",
       "      <th>60941</th>\n",
       "      <td>181</td>\n",
       "      <td>Zimbabwe</td>\n",
       "      <td>2899</td>\n",
       "      <td>Miscellaneous</td>\n",
       "      <td>674</td>\n",
       "      <td>Protein supply quantity (g/capita/day)</td>\n",
       "      <td>g/capita/day</td>\n",
       "      <td>0.10</td>\n",
       "      <td>0.11</td>\n",
       "      <td>0.08</td>\n",
       "      <td>0.04</td>\n",
       "      <td>0.04</td>\n",
       "    </tr>\n",
       "    <tr>\n",
       "      <th>60942</th>\n",
       "      <td>181</td>\n",
       "      <td>Zimbabwe</td>\n",
       "      <td>2899</td>\n",
       "      <td>Miscellaneous</td>\n",
       "      <td>684</td>\n",
       "      <td>Fat supply quantity (g/capita/day)</td>\n",
       "      <td>g/capita/day</td>\n",
       "      <td>0.04</td>\n",
       "      <td>0.05</td>\n",
       "      <td>0.03</td>\n",
       "      <td>0.02</td>\n",
       "      <td>0.01</td>\n",
       "    </tr>\n",
       "  </tbody>\n",
       "</table>\n",
       "</div>"
      ],
      "text/plain": [
       "       Area Code      Area  Item Code           Item  Element Code  \\\n",
       "60938        181  Zimbabwe       2899  Miscellaneous          5142   \n",
       "60939        181  Zimbabwe       2899  Miscellaneous           645   \n",
       "60940        181  Zimbabwe       2899  Miscellaneous           664   \n",
       "60941        181  Zimbabwe       2899  Miscellaneous           674   \n",
       "60942        181  Zimbabwe       2899  Miscellaneous           684   \n",
       "\n",
       "                                      Element             Unit  Y2014  Y2015  \\\n",
       "60938                                    Food      1000 tonnes  42.00  46.00   \n",
       "60939     Food supply quantity (kg/capita/yr)               kg   3.06   3.33   \n",
       "60940           Food supply (kcal/capita/day)  kcal/capita/day   3.00   4.00   \n",
       "60941  Protein supply quantity (g/capita/day)     g/capita/day   0.10   0.11   \n",
       "60942      Fat supply quantity (g/capita/day)     g/capita/day   0.04   0.05   \n",
       "\n",
       "       Y2016  Y2017  Y2018  \n",
       "60938  33.00  19.00  16.00  \n",
       "60939   2.35   1.33   1.08  \n",
       "60940   3.00   1.00   1.00  \n",
       "60941   0.08   0.04   0.04  \n",
       "60942   0.03   0.02   0.01  "
      ]
     },
     "execution_count": 81,
     "metadata": {},
     "output_type": "execute_result"
    }
   ],
   "source": [
    "data.tail()"
   ]
  },
  {
   "cell_type": "code",
   "execution_count": 173,
   "id": "e76ca8db",
   "metadata": {},
   "outputs": [
    {
     "data": {
      "text/plain": [
       "(60943, 12)"
      ]
     },
     "execution_count": 173,
     "metadata": {},
     "output_type": "execute_result"
    }
   ],
   "source": [
    "data.shape"
   ]
  },
  {
   "cell_type": "code",
   "execution_count": 83,
   "id": "64109410",
   "metadata": {
    "scrolled": true
   },
   "outputs": [
    {
     "data": {
      "text/html": [
       "<div>\n",
       "<style scoped>\n",
       "    .dataframe tbody tr th:only-of-type {\n",
       "        vertical-align: middle;\n",
       "    }\n",
       "\n",
       "    .dataframe tbody tr th {\n",
       "        vertical-align: top;\n",
       "    }\n",
       "\n",
       "    .dataframe thead th {\n",
       "        text-align: right;\n",
       "    }\n",
       "</style>\n",
       "<table border=\"1\" class=\"dataframe\">\n",
       "  <thead>\n",
       "    <tr style=\"text-align: right;\">\n",
       "      <th></th>\n",
       "      <th>Area Code</th>\n",
       "      <th>Item Code</th>\n",
       "      <th>Element Code</th>\n",
       "      <th>Y2014</th>\n",
       "      <th>Y2015</th>\n",
       "      <th>Y2016</th>\n",
       "      <th>Y2017</th>\n",
       "      <th>Y2018</th>\n",
       "    </tr>\n",
       "  </thead>\n",
       "  <tbody>\n",
       "    <tr>\n",
       "      <th>count</th>\n",
       "      <td>60943.000000</td>\n",
       "      <td>60943.000000</td>\n",
       "      <td>60943.000000</td>\n",
       "      <td>59354.000000</td>\n",
       "      <td>59395.000000</td>\n",
       "      <td>59408.000000</td>\n",
       "      <td>59437.000000</td>\n",
       "      <td>59507.000000</td>\n",
       "    </tr>\n",
       "    <tr>\n",
       "      <th>mean</th>\n",
       "      <td>134.265576</td>\n",
       "      <td>2687.176706</td>\n",
       "      <td>3814.856456</td>\n",
       "      <td>134.196282</td>\n",
       "      <td>135.235966</td>\n",
       "      <td>136.555222</td>\n",
       "      <td>140.917765</td>\n",
       "      <td>143.758381</td>\n",
       "    </tr>\n",
       "    <tr>\n",
       "      <th>std</th>\n",
       "      <td>72.605709</td>\n",
       "      <td>146.055739</td>\n",
       "      <td>2212.007033</td>\n",
       "      <td>1567.663696</td>\n",
       "      <td>1603.403984</td>\n",
       "      <td>1640.007194</td>\n",
       "      <td>1671.862359</td>\n",
       "      <td>1710.782658</td>\n",
       "    </tr>\n",
       "    <tr>\n",
       "      <th>min</th>\n",
       "      <td>4.000000</td>\n",
       "      <td>2501.000000</td>\n",
       "      <td>511.000000</td>\n",
       "      <td>-1796.000000</td>\n",
       "      <td>-3161.000000</td>\n",
       "      <td>-3225.000000</td>\n",
       "      <td>-1582.000000</td>\n",
       "      <td>-3396.000000</td>\n",
       "    </tr>\n",
       "    <tr>\n",
       "      <th>25%</th>\n",
       "      <td>74.000000</td>\n",
       "      <td>2562.000000</td>\n",
       "      <td>684.000000</td>\n",
       "      <td>0.000000</td>\n",
       "      <td>0.000000</td>\n",
       "      <td>0.000000</td>\n",
       "      <td>0.000000</td>\n",
       "      <td>0.000000</td>\n",
       "    </tr>\n",
       "    <tr>\n",
       "      <th>50%</th>\n",
       "      <td>136.000000</td>\n",
       "      <td>2630.000000</td>\n",
       "      <td>5142.000000</td>\n",
       "      <td>0.090000</td>\n",
       "      <td>0.080000</td>\n",
       "      <td>0.080000</td>\n",
       "      <td>0.100000</td>\n",
       "      <td>0.070000</td>\n",
       "    </tr>\n",
       "    <tr>\n",
       "      <th>75%</th>\n",
       "      <td>195.000000</td>\n",
       "      <td>2775.000000</td>\n",
       "      <td>5511.000000</td>\n",
       "      <td>8.340000</td>\n",
       "      <td>8.460000</td>\n",
       "      <td>8.430000</td>\n",
       "      <td>9.000000</td>\n",
       "      <td>9.000000</td>\n",
       "    </tr>\n",
       "    <tr>\n",
       "      <th>max</th>\n",
       "      <td>276.000000</td>\n",
       "      <td>2961.000000</td>\n",
       "      <td>5911.000000</td>\n",
       "      <td>176405.000000</td>\n",
       "      <td>181137.000000</td>\n",
       "      <td>185960.000000</td>\n",
       "      <td>190873.000000</td>\n",
       "      <td>195875.000000</td>\n",
       "    </tr>\n",
       "  </tbody>\n",
       "</table>\n",
       "</div>"
      ],
      "text/plain": [
       "          Area Code     Item Code  Element Code          Y2014          Y2015  \\\n",
       "count  60943.000000  60943.000000  60943.000000   59354.000000   59395.000000   \n",
       "mean     134.265576   2687.176706   3814.856456     134.196282     135.235966   \n",
       "std       72.605709    146.055739   2212.007033    1567.663696    1603.403984   \n",
       "min        4.000000   2501.000000    511.000000   -1796.000000   -3161.000000   \n",
       "25%       74.000000   2562.000000    684.000000       0.000000       0.000000   \n",
       "50%      136.000000   2630.000000   5142.000000       0.090000       0.080000   \n",
       "75%      195.000000   2775.000000   5511.000000       8.340000       8.460000   \n",
       "max      276.000000   2961.000000   5911.000000  176405.000000  181137.000000   \n",
       "\n",
       "               Y2016          Y2017          Y2018  \n",
       "count   59408.000000   59437.000000   59507.000000  \n",
       "mean      136.555222     140.917765     143.758381  \n",
       "std      1640.007194    1671.862359    1710.782658  \n",
       "min     -3225.000000   -1582.000000   -3396.000000  \n",
       "25%         0.000000       0.000000       0.000000  \n",
       "50%         0.080000       0.100000       0.070000  \n",
       "75%         8.430000       9.000000       9.000000  \n",
       "max    185960.000000  190873.000000  195875.000000  "
      ]
     },
     "execution_count": 83,
     "metadata": {},
     "output_type": "execute_result"
    }
   ],
   "source": [
    "data.describe()"
   ]
  },
  {
   "cell_type": "code",
   "execution_count": 84,
   "id": "56aaa02c",
   "metadata": {
    "scrolled": false
   },
   "outputs": [
    {
     "name": "stdout",
     "output_type": "stream",
     "text": [
      "<class 'pandas.core.frame.DataFrame'>\n",
      "RangeIndex: 60943 entries, 0 to 60942\n",
      "Data columns (total 12 columns):\n",
      " #   Column        Non-Null Count  Dtype  \n",
      "---  ------        --------------  -----  \n",
      " 0   Area Code     60943 non-null  int64  \n",
      " 1   Area          60943 non-null  object \n",
      " 2   Item Code     60943 non-null  int64  \n",
      " 3   Item          60943 non-null  object \n",
      " 4   Element Code  60943 non-null  int64  \n",
      " 5   Element       60943 non-null  object \n",
      " 6   Unit          60943 non-null  object \n",
      " 7   Y2014         59354 non-null  float64\n",
      " 8   Y2015         59395 non-null  float64\n",
      " 9   Y2016         59408 non-null  float64\n",
      " 10  Y2017         59437 non-null  float64\n",
      " 11  Y2018         59507 non-null  float64\n",
      "dtypes: float64(5), int64(3), object(4)\n",
      "memory usage: 5.6+ MB\n"
     ]
    }
   ],
   "source": [
    "data.info()"
   ]
  },
  {
   "cell_type": "code",
   "execution_count": 85,
   "id": "cb29c5cc",
   "metadata": {
    "scrolled": true
   },
   "outputs": [
    {
     "data": {
      "text/plain": [
       "Area Code          0\n",
       "Area               0\n",
       "Item Code          0\n",
       "Item               0\n",
       "Element Code       0\n",
       "Element            0\n",
       "Unit               0\n",
       "Y2014           1589\n",
       "Y2015           1548\n",
       "Y2016           1535\n",
       "Y2017           1506\n",
       "Y2018           1436\n",
       "dtype: int64"
      ]
     },
     "execution_count": 85,
     "metadata": {},
     "output_type": "execute_result"
    }
   ],
   "source": [
    "data.isnull().sum()"
   ]
  },
  {
   "cell_type": "markdown",
   "id": "dbe2a987",
   "metadata": {},
   "source": [
    "# What is the total number and percentage of missing data in 2014 to 3 decimal places?"
   ]
  },
  {
   "cell_type": "markdown",
   "id": "8e1b7248",
   "metadata": {},
   "source": [
    "### Total Number of missing data in 2014:"
   ]
  },
  {
   "cell_type": "code",
   "execution_count": 200,
   "id": "a89b59d9",
   "metadata": {},
   "outputs": [
    {
     "data": {
      "text/plain": [
       "1589"
      ]
     },
     "execution_count": 200,
     "metadata": {},
     "output_type": "execute_result"
    }
   ],
   "source": [
    "tot_mis = data.Y2014.isnull().sum()\n",
    "tot_mis"
   ]
  },
  {
   "cell_type": "markdown",
   "id": "b5375834",
   "metadata": {},
   "source": [
    "**Total Number: 1589**"
   ]
  },
  {
   "cell_type": "markdown",
   "id": "2fbb0549",
   "metadata": {},
   "source": [
    "### Percentage of missing data in 2014:"
   ]
  },
  {
   "cell_type": "code",
   "execution_count": 201,
   "id": "bc7aa774",
   "metadata": {
    "scrolled": false
   },
   "outputs": [
    {
     "data": {
      "text/plain": [
       "2.607"
      ]
     },
     "execution_count": 201,
     "metadata": {},
     "output_type": "execute_result"
    }
   ],
   "source": [
    "total = len(data.Y2014)\n",
    "round(tot_mis/total *100, 3)"
   ]
  },
  {
   "cell_type": "markdown",
   "id": "12f4b267",
   "metadata": {},
   "source": [
    "**Percentage: 2.607**"
   ]
  },
  {
   "cell_type": "markdown",
   "id": "f97ae587",
   "metadata": {},
   "source": [
    "# What is the mean and standard deviation across the whole dataset for the year 2017 to 2 decimal places?"
   ]
  },
  {
   "cell_type": "code",
   "execution_count": 209,
   "id": "2d6b019b",
   "metadata": {},
   "outputs": [
    {
     "data": {
      "text/plain": [
       "(140.92, 1671.86)"
      ]
     },
     "execution_count": 209,
     "metadata": {},
     "output_type": "execute_result"
    }
   ],
   "source": [
    "round(data.Y2017.mean(),2),round(data.Y2017.std(),2)"
   ]
  },
  {
   "cell_type": "markdown",
   "id": "7fd5caad",
   "metadata": {},
   "source": [
    "**Answer:**\n",
    "\n",
    "The mean:140.92\n",
    "\n",
    "Standard Deviation:1671.86"
   ]
  },
  {
   "cell_type": "markdown",
   "id": "b9c14c3f",
   "metadata": {},
   "source": [
    "# Select columns ‘Y2017’ and ‘Area’, Perform a groupby operation on ‘Area’.  Which of these Areas had the 7th lowest sum in 2017?"
   ]
  },
  {
   "cell_type": "code",
   "execution_count": 211,
   "id": "0a99b34f",
   "metadata": {},
   "outputs": [
    {
     "data": {
      "text/plain": [
       "Area\n",
       "Sudan (former)                       0.00\n",
       "Ethiopia PDR                         0.00\n",
       "Comoros                             59.84\n",
       "Seychelles                         442.34\n",
       "Sao Tome and Principe            12662.63\n",
       "Cabo Verde                       14650.74\n",
       "Guinea-Bissau                    19102.77\n",
       "Lesotho                          21267.96\n",
       "Botswana                         22101.30\n",
       "Djibouti                         22729.91\n",
       "Gambia                           23154.18\n",
       "Gabon                            27979.64\n",
       "Liberia                          29342.20\n",
       "Namibia                          29874.89\n",
       "Central African Republic         29937.00\n",
       "Congo                            41181.68\n",
       "Togo                             49841.88\n",
       "Mauritius                        51114.83\n",
       "Eswatini                         54343.33\n",
       "Sierra Leone                     55311.33\n",
       "Chad                             71594.68\n",
       "Rwanda                           73663.69\n",
       "Zimbabwe                         75919.34\n",
       "Senegal                          95681.15\n",
       "Guinea                           98138.87\n",
       "Burkina Faso                    101855.07\n",
       "Zambia                          103223.77\n",
       "Tunisia                         124167.20\n",
       "Benin                           124771.22\n",
       "Niger                           126707.58\n",
       "Madagascar                      131197.73\n",
       "Mali                            149928.33\n",
       "Mauritania                      156665.46\n",
       "Mozambique                      161407.98\n",
       "Malawi                          181098.71\n",
       "Uganda                          213950.38\n",
       "Côte d'Ivoire                   224599.01\n",
       "Angola                          229159.57\n",
       "Cameroon                        232030.43\n",
       "Sudan                           239931.92\n",
       "Kenya                           264660.66\n",
       "United Republic of Tanzania     322616.85\n",
       "Algeria                         325644.27\n",
       "Ghana                           337599.06\n",
       "Morocco                         388495.36\n",
       "Ethiopia                        448683.76\n",
       "South Africa                    517590.54\n",
       "Egypt                           866379.92\n",
       "Nigeria                        1483268.23\n",
       "Name: Y2017, dtype: float64"
      ]
     },
     "execution_count": 211,
     "metadata": {},
     "output_type": "execute_result"
    }
   ],
   "source": [
    "data.groupby('Area')['Y2017'].sum().sort_values(ascending=True)"
   ]
  },
  {
   "cell_type": "markdown",
   "id": "f51d8ae8",
   "metadata": {},
   "source": [
    "**Answer: Guinea-Bissau**"
   ]
  },
  {
   "cell_type": "markdown",
   "id": "9ecc9197",
   "metadata": {},
   "source": [
    "# What is the total number of unique countries in the dataset?"
   ]
  },
  {
   "cell_type": "code",
   "execution_count": 212,
   "id": "d03bdc51",
   "metadata": {},
   "outputs": [
    {
     "data": {
      "text/plain": [
       "49"
      ]
     },
     "execution_count": 212,
     "metadata": {},
     "output_type": "execute_result"
    }
   ],
   "source": [
    "data.Area.nunique()"
   ]
  },
  {
   "cell_type": "markdown",
   "id": "f8db0877",
   "metadata": {},
   "source": [
    "**Answer: 49**"
   ]
  },
  {
   "cell_type": "markdown",
   "id": "28a5310c",
   "metadata": {},
   "source": [
    "# Perform a groupby operation on ‘Element’.  What year has the highest sum of Stock Variation?"
   ]
  },
  {
   "cell_type": "code",
   "execution_count": 213,
   "id": "718c20c0",
   "metadata": {
    "scrolled": false
   },
   "outputs": [
    {
     "data": {
      "text/plain": [
       "Y2014    58749.83\n",
       "Y2017    54316.91\n",
       "Y2015    34910.99\n",
       "Y2016    33140.12\n",
       "Y2018    20577.91\n",
       "dtype: float64"
      ]
     },
     "execution_count": 213,
     "metadata": {},
     "output_type": "execute_result"
    }
   ],
   "source": [
    "stock_var = data[data.Element =='Stock Variation']\n",
    "stock_var[year_col].sum().sort_values(ascending=False)"
   ]
  },
  {
   "cell_type": "markdown",
   "id": "5e0c6eaf",
   "metadata": {},
   "source": [
    "**Answer: 2014**"
   ]
  },
  {
   "cell_type": "markdown",
   "id": "7632df3e",
   "metadata": {},
   "source": [
    "# What is the total Protein supply quantity in Madagascar in 2015?"
   ]
  },
  {
   "cell_type": "code",
   "execution_count": 214,
   "id": "6d2e9f59",
   "metadata": {},
   "outputs": [
    {
     "data": {
      "text/plain": [
       "173.05"
      ]
     },
     "execution_count": 214,
     "metadata": {},
     "output_type": "execute_result"
    }
   ],
   "source": [
    "area_mag = data[data.Area == 'Madagascar']\n",
    "prot_qt = area_mag[area_mag.Element == 'Protein supply quantity (g/capita/day)']\n",
    "round(prot_qt.Y2015.sum(), 2)"
   ]
  },
  {
   "cell_type": "markdown",
   "id": "7919eb3c",
   "metadata": {},
   "source": [
    "**Answer: 173.05**"
   ]
  },
  {
   "cell_type": "markdown",
   "id": "90a2fc1a",
   "metadata": {},
   "source": [
    "# Perform a groupby operation on ‘Element’.  What is the total number of the sum of Processing in 2017?"
   ]
  },
  {
   "cell_type": "code",
   "execution_count": 215,
   "id": "787143b3",
   "metadata": {},
   "outputs": [
    {
     "data": {
      "text/plain": [
       "292836.0"
      ]
     },
     "execution_count": 215,
     "metadata": {},
     "output_type": "execute_result"
    }
   ],
   "source": [
    "data[data.Element == 'Processing'].Y2017.sum()"
   ]
  },
  {
   "cell_type": "markdown",
   "id": "23768c85",
   "metadata": {},
   "source": [
    "**Answer: 292836.0**"
   ]
  },
  {
   "cell_type": "markdown",
   "id": "0e1948cc",
   "metadata": {},
   "source": [
    "# Which year had the least correlation with ‘Element Code’?"
   ]
  },
  {
   "cell_type": "code",
   "execution_count": 216,
   "id": "236d654f",
   "metadata": {},
   "outputs": [
    {
     "data": {
      "text/html": [
       "<div>\n",
       "<style scoped>\n",
       "    .dataframe tbody tr th:only-of-type {\n",
       "        vertical-align: middle;\n",
       "    }\n",
       "\n",
       "    .dataframe tbody tr th {\n",
       "        vertical-align: top;\n",
       "    }\n",
       "\n",
       "    .dataframe thead th {\n",
       "        text-align: right;\n",
       "    }\n",
       "</style>\n",
       "<table border=\"1\" class=\"dataframe\">\n",
       "  <thead>\n",
       "    <tr style=\"text-align: right;\">\n",
       "      <th></th>\n",
       "      <th>Area Code</th>\n",
       "      <th>Item Code</th>\n",
       "      <th>Element Code</th>\n",
       "      <th>Y2014</th>\n",
       "      <th>Y2015</th>\n",
       "      <th>Y2016</th>\n",
       "      <th>Y2017</th>\n",
       "      <th>Y2018</th>\n",
       "    </tr>\n",
       "  </thead>\n",
       "  <tbody>\n",
       "    <tr>\n",
       "      <th>Area Code</th>\n",
       "      <td>1.000000</td>\n",
       "      <td>-0.005159</td>\n",
       "      <td>-0.000209</td>\n",
       "      <td>0.006164</td>\n",
       "      <td>0.005472</td>\n",
       "      <td>0.005247</td>\n",
       "      <td>0.005006</td>\n",
       "      <td>0.005665</td>\n",
       "    </tr>\n",
       "    <tr>\n",
       "      <th>Item Code</th>\n",
       "      <td>-0.005159</td>\n",
       "      <td>1.000000</td>\n",
       "      <td>-0.024683</td>\n",
       "      <td>0.021722</td>\n",
       "      <td>0.020857</td>\n",
       "      <td>0.020109</td>\n",
       "      <td>0.021494</td>\n",
       "      <td>0.021314</td>\n",
       "    </tr>\n",
       "    <tr>\n",
       "      <th>Element Code</th>\n",
       "      <td>-0.000209</td>\n",
       "      <td>-0.024683</td>\n",
       "      <td>1.000000</td>\n",
       "      <td>0.024457</td>\n",
       "      <td>0.023889</td>\n",
       "      <td>0.023444</td>\n",
       "      <td>0.024254</td>\n",
       "      <td>0.024279</td>\n",
       "    </tr>\n",
       "    <tr>\n",
       "      <th>Y2014</th>\n",
       "      <td>0.006164</td>\n",
       "      <td>0.021722</td>\n",
       "      <td>0.024457</td>\n",
       "      <td>1.000000</td>\n",
       "      <td>0.994647</td>\n",
       "      <td>0.996081</td>\n",
       "      <td>0.995230</td>\n",
       "      <td>0.994872</td>\n",
       "    </tr>\n",
       "    <tr>\n",
       "      <th>Y2015</th>\n",
       "      <td>0.005472</td>\n",
       "      <td>0.020857</td>\n",
       "      <td>0.023889</td>\n",
       "      <td>0.994647</td>\n",
       "      <td>1.000000</td>\n",
       "      <td>0.995739</td>\n",
       "      <td>0.988048</td>\n",
       "      <td>0.988208</td>\n",
       "    </tr>\n",
       "    <tr>\n",
       "      <th>Y2016</th>\n",
       "      <td>0.005247</td>\n",
       "      <td>0.020109</td>\n",
       "      <td>0.023444</td>\n",
       "      <td>0.996081</td>\n",
       "      <td>0.995739</td>\n",
       "      <td>1.000000</td>\n",
       "      <td>0.992785</td>\n",
       "      <td>0.992757</td>\n",
       "    </tr>\n",
       "    <tr>\n",
       "      <th>Y2017</th>\n",
       "      <td>0.005006</td>\n",
       "      <td>0.021494</td>\n",
       "      <td>0.024254</td>\n",
       "      <td>0.995230</td>\n",
       "      <td>0.988048</td>\n",
       "      <td>0.992785</td>\n",
       "      <td>1.000000</td>\n",
       "      <td>0.998103</td>\n",
       "    </tr>\n",
       "    <tr>\n",
       "      <th>Y2018</th>\n",
       "      <td>0.005665</td>\n",
       "      <td>0.021314</td>\n",
       "      <td>0.024279</td>\n",
       "      <td>0.994872</td>\n",
       "      <td>0.988208</td>\n",
       "      <td>0.992757</td>\n",
       "      <td>0.998103</td>\n",
       "      <td>1.000000</td>\n",
       "    </tr>\n",
       "  </tbody>\n",
       "</table>\n",
       "</div>"
      ],
      "text/plain": [
       "              Area Code  Item Code  Element Code     Y2014     Y2015  \\\n",
       "Area Code      1.000000  -0.005159     -0.000209  0.006164  0.005472   \n",
       "Item Code     -0.005159   1.000000     -0.024683  0.021722  0.020857   \n",
       "Element Code  -0.000209  -0.024683      1.000000  0.024457  0.023889   \n",
       "Y2014          0.006164   0.021722      0.024457  1.000000  0.994647   \n",
       "Y2015          0.005472   0.020857      0.023889  0.994647  1.000000   \n",
       "Y2016          0.005247   0.020109      0.023444  0.996081  0.995739   \n",
       "Y2017          0.005006   0.021494      0.024254  0.995230  0.988048   \n",
       "Y2018          0.005665   0.021314      0.024279  0.994872  0.988208   \n",
       "\n",
       "                 Y2016     Y2017     Y2018  \n",
       "Area Code     0.005247  0.005006  0.005665  \n",
       "Item Code     0.020109  0.021494  0.021314  \n",
       "Element Code  0.023444  0.024254  0.024279  \n",
       "Y2014         0.996081  0.995230  0.994872  \n",
       "Y2015         0.995739  0.988048  0.988208  \n",
       "Y2016         1.000000  0.992785  0.992757  \n",
       "Y2017         0.992785  1.000000  0.998103  \n",
       "Y2018         0.992757  0.998103  1.000000  "
      ]
     },
     "execution_count": 216,
     "metadata": {},
     "output_type": "execute_result"
    }
   ],
   "source": [
    "data.corr()"
   ]
  },
  {
   "cell_type": "markdown",
   "id": "8f4ab8be",
   "metadata": {},
   "source": [
    "**Answer: 2016**"
   ]
  },
  {
   "cell_type": "markdown",
   "id": "4279c021",
   "metadata": {},
   "source": [
    "# What is the total sum of Wine produced in 2015 and 2018 respectively?"
   ]
  },
  {
   "cell_type": "code",
   "execution_count": 217,
   "id": "7ac9e4e2",
   "metadata": {},
   "outputs": [
    {
     "data": {
      "text/plain": [
       "(4251.81, 4039.32)"
      ]
     },
     "execution_count": 217,
     "metadata": {},
     "output_type": "execute_result"
    }
   ],
   "source": [
    "item_wine= data[data.Item == 'Wine']\n",
    "round(item_wine.Y2015.sum(),2), round(item_wine.Y2018.sum(),2)"
   ]
  },
  {
   "cell_type": "markdown",
   "id": "47dcce93",
   "metadata": {},
   "source": [
    "**Answer:**\n",
    "\n",
    "- In 2015, sum is 4251.81\n",
    "\n",
    "- In 2018, sum is 4039.32"
   ]
  },
  {
   "cell_type": "markdown",
   "id": "3c6dd3aa",
   "metadata": {},
   "source": [
    "# Select columns ‘Y2017’ and ‘Area’, Perform a groupby operation on ‘Area’.  Which of these Areas had the highest sum in 2017?"
   ]
  },
  {
   "cell_type": "code",
   "execution_count": 218,
   "id": "16b7fab0",
   "metadata": {},
   "outputs": [
    {
     "data": {
      "text/plain": [
       "Area\n",
       "Nigeria                        1483268.23\n",
       "Egypt                           866379.92\n",
       "South Africa                    517590.54\n",
       "Ethiopia                        448683.76\n",
       "Morocco                         388495.36\n",
       "Ghana                           337599.06\n",
       "Algeria                         325644.27\n",
       "United Republic of Tanzania     322616.85\n",
       "Kenya                           264660.66\n",
       "Sudan                           239931.92\n",
       "Cameroon                        232030.43\n",
       "Angola                          229159.57\n",
       "Côte d'Ivoire                   224599.01\n",
       "Uganda                          213950.38\n",
       "Malawi                          181098.71\n",
       "Mozambique                      161407.98\n",
       "Mauritania                      156665.46\n",
       "Mali                            149928.33\n",
       "Madagascar                      131197.73\n",
       "Niger                           126707.58\n",
       "Benin                           124771.22\n",
       "Tunisia                         124167.20\n",
       "Zambia                          103223.77\n",
       "Burkina Faso                    101855.07\n",
       "Guinea                           98138.87\n",
       "Senegal                          95681.15\n",
       "Zimbabwe                         75919.34\n",
       "Rwanda                           73663.69\n",
       "Chad                             71594.68\n",
       "Sierra Leone                     55311.33\n",
       "Eswatini                         54343.33\n",
       "Mauritius                        51114.83\n",
       "Togo                             49841.88\n",
       "Congo                            41181.68\n",
       "Central African Republic         29937.00\n",
       "Namibia                          29874.89\n",
       "Liberia                          29342.20\n",
       "Gabon                            27979.64\n",
       "Gambia                           23154.18\n",
       "Djibouti                         22729.91\n",
       "Botswana                         22101.30\n",
       "Lesotho                          21267.96\n",
       "Guinea-Bissau                    19102.77\n",
       "Cabo Verde                       14650.74\n",
       "Sao Tome and Principe            12662.63\n",
       "Seychelles                         442.34\n",
       "Comoros                             59.84\n",
       "Sudan (former)                       0.00\n",
       "Ethiopia PDR                         0.00\n",
       "Name: Y2017, dtype: float64"
      ]
     },
     "execution_count": 218,
     "metadata": {},
     "output_type": "execute_result"
    }
   ],
   "source": [
    "data.groupby('Area')['Y2017'].sum().sort_values(ascending=False)"
   ]
  },
  {
   "cell_type": "markdown",
   "id": "c42d7e05",
   "metadata": {},
   "source": [
    "**Answer: Nigeria**"
   ]
  }
 ],
 "metadata": {
  "kernelspec": {
   "display_name": "Python 3 (ipykernel)",
   "language": "python",
   "name": "python3"
  },
  "language_info": {
   "codemirror_mode": {
    "name": "ipython",
    "version": 3
   },
   "file_extension": ".py",
   "mimetype": "text/x-python",
   "name": "python",
   "nbconvert_exporter": "python",
   "pygments_lexer": "ipython3",
   "version": "3.9.12"
  },
  "toc": {
   "base_numbering": 1,
   "nav_menu": {},
   "number_sections": true,
   "sideBar": true,
   "skip_h1_title": false,
   "title_cell": "Table of Contents",
   "title_sidebar": "Contents",
   "toc_cell": false,
   "toc_position": {},
   "toc_section_display": true,
   "toc_window_display": false
  },
  "varInspector": {
   "cols": {
    "lenName": 16,
    "lenType": 16,
    "lenVar": 40
   },
   "kernels_config": {
    "python": {
     "delete_cmd_postfix": "",
     "delete_cmd_prefix": "del ",
     "library": "var_list.py",
     "varRefreshCmd": "print(var_dic_list())"
    },
    "r": {
     "delete_cmd_postfix": ") ",
     "delete_cmd_prefix": "rm(",
     "library": "var_list.r",
     "varRefreshCmd": "cat(var_dic_list()) "
    }
   },
   "types_to_exclude": [
    "module",
    "function",
    "builtin_function_or_method",
    "instance",
    "_Feature"
   ],
   "window_display": false
  }
 },
 "nbformat": 4,
 "nbformat_minor": 5
}
